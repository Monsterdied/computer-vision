{
 "cells": [
  {
   "cell_type": "code",
   "execution_count": 1,
   "id": "57559f16",
   "metadata": {},
   "outputs": [],
   "source": [
    "import sys\n",
    "import os\n",
    "# Get the parent directory path\n",
    "module_path = os.path.abspath(os.path.join('..'))\n",
    "if module_path not in sys.path:\n",
    "    sys.path.append(module_path)"
   ]
  },
  {
   "cell_type": "markdown",
   "id": "328d0555",
   "metadata": {},
   "source": [
    "Load the images names"
   ]
  },
  {
   "cell_type": "code",
   "execution_count": null,
   "id": "3d87d0a7",
   "metadata": {},
   "outputs": [],
   "source": [
    "import cv2\n",
    "import numpy as np\n",
    "def orient_board_by_logo(warped_board,debug=False):\n",
    "    # Define a percentage of the board size for the corner region\n",
    "    height, width = warped_board.shape[:2]\n",
    "    corner_h, corner_w = 30,30\n",
    "    offset_h, offset_w = 10, 20\n",
    "\n",
    "    # Convert to grayscale for intensity calculation\n",
    "    if len(warped_board.shape) > 2:\n",
    "        gray_board = cv2.cvtColor(warped_board, cv2.COLOR_BGR2GRAY)\n",
    "        vis_board = warped_board.copy()\n",
    "\n",
    "    else:\n",
    "        gray_board = warped_board\n",
    "        vis_board = cv2.cvtColor(warped_board, cv2.COLOR_GRAY2BGR)\n",
    "\n",
    "\n",
    " \n",
    "\n",
    "\n",
    "    # Define the four corner ROIs (Regions of Interest)\n",
    "    corners = {\n",
    "        \"top_left\": gray_board[offset_h:corner_h + offset_h, offset_w:corner_w + offset_w],\n",
    "        \"top_right\": gray_board[offset_h:corner_h + offset_h, width-1 -corner_w - offset_w:width- 1- offset_w],\n",
    "        \"bottom_left\": gray_board[height-1 -corner_h:height-1 , offset_w:corner_w + offset_w],\n",
    "        \"bottom_right\": gray_board[height-1 -corner_h:height-1 , width-1 -corner_w:width-1 ]\n",
    "    }\n",
    "    cv2.imshow(\"top_left\", corners[\"top_left\"])\n",
    "    cv2.imshow(\"top_right\", corners[\"top_right\"])\n",
    "    cv2.imshow(\"bottom_left\", corners[\"bottom_left\"])\n",
    "    cv2.imshow(\"bottom_right\", corners[\"bottom_right\"])\n",
    "    # Calculate the average intensity of each corner\n",
    "    avg_intensities = {name: np.mean(roi) for name, roi in corners.items()}\n",
    "\n",
    "    # The logo corner will be the darkest (lowest intensity)\n",
    "    logo_corner = min(avg_intensities, key=avg_intensities.get)\n",
    "\n",
    "    # Determine rotation needed to move the logo to the bottom-left\n",
    "    if logo_corner == \"bottom_left\":\n",
    "        rotation_code = 0\n",
    "        oriented_board = warped_board\n",
    "        cv2.rectangle(vis_board, (offset_w, height-1 -corner_h), (corner_w + offset_w, height-1), (255, 0, 0), 2)  # bottom-left\n",
    "    elif logo_corner == \"bottom_right\":\n",
    "        rotation_code = 90  \n",
    "        oriented_board = cv2.rotate(warped_board, cv2.ROTATE_90_CLOCKWISE)\n",
    "        cv2.rectangle(vis_board, (width-1 -corner_w, height-1 -corner_h), ( width-1, height-1), (0, 255, 255), 2)  # bottom-right\n",
    "    elif logo_corner == \"top_right\":\n",
    "        rotation_code = 180  \n",
    "        oriented_board = cv2.rotate(warped_board, cv2.ROTATE_180)\n",
    "        cv2.rectangle(vis_board, (width-corner_w, offset_h), (width, corner_h+offset_h), (0, 255, 0), 2)  # top-right\n",
    "    elif logo_corner == \"top_left\":\n",
    "        rotation_code = 270 \n",
    "        oriented_board = cv2.rotate(warped_board, cv2.ROTATE_90_COUNTERCLOCKWISE)\n",
    "        cv2.rectangle(vis_board, (offset_w, offset_h), (corner_w+offset_w, corner_h+offset_h), (0, 0, 255), 2)  # top-left\n",
    "    else:\n",
    "        rotation_code = 0\n",
    "        oriented_board = warped_board\n",
    "    cv2.imshow(\"Corner Highlight Visualization\", vis_board)\n",
    "    cv2.waitKey(0)\n",
    "    cv2.destroyAllWindows()\n",
    "\n",
    "    return oriented_board, rotation_code\n",
    "\n",
    "def rotate_presence_matrix(matrix, angle):\n",
    "    if not matrix or not matrix[0]:\n",
    "        return matrix\n",
    "        \n",
    "    if angle == 90:\n",
    "        return [list(row) for row in zip(*matrix[::-1])]\n",
    "    elif angle == 180:\n",
    "        return [row[::-1] for row in matrix[::-1]]\n",
    "    elif angle == 270:\n",
    "        return [list(row) for row in zip(*matrix)][::-1]\n",
    "    return matrix"
   ]
  },
  {
   "cell_type": "code",
   "execution_count": null,
   "id": "9c566e78",
   "metadata": {},
   "outputs": [
    {
     "name": "stdout",
     "output_type": "stream",
     "text": [
      "Processing image:  ../images1/G000_IMG062.jpg\n",
      "Chessboard found in ../images1/G000_IMG062.jpg\n",
      "All squares found\n",
      "Finished processing image:  ../images1/G000_IMG062.jpg\n"
     ]
    }
   ],
   "source": [
    "from task3_2API import detectBoardAndSquares\n",
    "from \n",
    "for img in images[:1]:\n",
    "    print(\"Processing image: \", img)\n",
    "    # Call the function to detect board and squares\n",
    "    normalizedBoard, square_box, M, fx, fy = detectBoardAndSquares(img)\n",
    "    if(normalizedBoard is not None):\n",
    "        orient_board_by_logo(normalizedBoard)\n",
    "    print(\"Finished processing image: \", img)"
   ]
  }
 ],
 "metadata": {
  "kernelspec": {
   "display_name": "Python 3",
   "language": "python",
   "name": "python3"
  },
  "language_info": {
   "codemirror_mode": {
    "name": "ipython",
    "version": 3
   },
   "file_extension": ".py",
   "mimetype": "text/x-python",
   "name": "python",
   "nbconvert_exporter": "python",
   "pygments_lexer": "ipython3",
   "version": "3.13.3"
  }
 },
 "nbformat": 4,
 "nbformat_minor": 5
}
