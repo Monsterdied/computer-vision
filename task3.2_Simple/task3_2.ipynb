{
 "cells": [
  {
   "cell_type": "code",
   "execution_count": null,
   "id": "57559f16",
   "metadata": {},
   "outputs": [],
   "source": [
    "from ..localmatch import "
   ]
  }
 ],
 "metadata": {
  "language_info": {
   "name": "python"
  }
 },
 "nbformat": 4,
 "nbformat_minor": 5
}
