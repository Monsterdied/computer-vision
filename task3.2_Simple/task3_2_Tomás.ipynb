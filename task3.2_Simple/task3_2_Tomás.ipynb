{
 "cells": [
  {
   "cell_type": "code",
   "execution_count": 1,
   "id": "57559f16",
   "metadata": {},
   "outputs": [],
   "source": [
    "import sys\n",
    "import os\n",
    "# Get the parent directory path\n",
    "module_path = os.path.abspath(os.path.join('..'))\n",
    "if module_path not in sys.path:\n",
    "    sys.path.append(module_path)"
   ]
  },
  {
   "cell_type": "markdown",
   "id": "328d0555",
   "metadata": {},
   "source": [
    "Load the images names"
   ]
  },
  {
   "cell_type": "code",
   "execution_count": 2,
   "id": "3be4332d",
   "metadata": {},
   "outputs": [
    {
     "name": "stdout",
     "output_type": "stream",
     "text": [
      "Images to be processed:  ['../images1/G000_IMG062.jpg', '../images1/G000_IMG087.jpg', '../images1/G000_IMG102.jpg', '../images1/G006_IMG048.jpg', '../images1/G006_IMG086.jpg', '../images1/G006_IMG119.jpg', '../images1/G019_IMG082.jpg', '../images1/G028_IMG015.jpg', '../images1/G028_IMG062.jpg', '../images1/G028_IMG098.jpg', '../images1/G028_IMG101.jpg', '../images1/G033_IMG043.jpg', '../images1/G033_IMG075.jpg', '../images1/G033_IMG088.jpg', '../images1/G033_IMG101.jpg', '../images1/G038_IMG074.jpg', '../images1/G038_IMG088.jpg', '../images1/G038_IMG103.jpg', '../images1/G038_IMG105.jpg', '../images1/G041_IMG042.jpg', '../images1/G041_IMG048.jpg', '../images1/G041_IMG088.jpg', '../images1/G041_IMG098.jpg', '../images1/G047_IMG053.jpg', '../images1/G047_IMG068.jpg', '../images1/G047_IMG102.jpg', '../images1/G047_IMG107.jpg', '../images1/G056_IMG017.jpg', '../images1/G056_IMG077.jpg', '../images1/G056_IMG097.jpg', '../images1/G058_IMG044.jpg', '../images1/G058_IMG074.jpg', '../images1/G058_IMG100.jpg', '../images1/G061_IMG080.jpg', '../images1/G061_IMG092.jpg', '../images1/G061_IMG098.jpg', '../images1/G072_IMG083.jpg', '../images1/G072_IMG098.jpg', '../images1/G076_IMG072.jpg', '../images1/G076_IMG089.jpg', '../images1/G076_IMG095.jpg', '../images1/G078_IMG092.jpg', '../images1/G083_IMG073.jpg', '../images1/G083_IMG089.jpg', '../images1/G087_IMG093.jpg', '../images1/G087_IMG099.jpg', '../images1/G091_IMG053.jpg', '../images1/G091_IMG074.jpg', '../images1/G091_IMG102.jpg', '../images1/G099_IMG094.jpg']\n"
     ]
    }
   ],
   "source": [
    "images = []\n",
    "dataDir = \"../images1/\"\n",
    "for img in os.listdir(dataDir):\n",
    "\n",
    "    #join the path with the names of the images\n",
    "    dataDirTemp = os.path.join(dataDir, str(img))\n",
    "    images.append(dataDirTemp)\n",
    "print(\"Images to be processed: \", images)"
   ]
  },
  {
   "cell_type": "code",
   "execution_count": 21,
   "id": "3d87d0a7",
   "metadata": {},
   "outputs": [],
   "source": [
    "import cv2\n",
    "import numpy as np\n",
    "\n",
    "def findHourse(img, x_offset=0, y_offset=0, width_box=30, height_box=30):\n",
    "    \"\"\"\n",
    "    Draws boxes at the four corners of an image.\n",
    "    \n",
    "    Parameters:\n",
    "    - img: Input image (BGR format)\n",
    "    - x_offset, y_offset: Offset for corner positions\n",
    "    - width_box, height_box: Size of the corner boxes\n",
    "    \"\"\"\n",
    "    # Convert to grayscale (though we'll draw on the original color image)\n",
    "    black_and_white = cv2.cvtColor(img, cv2.COLOR_BGR2GRAY)\n",
    "    height, width = black_and_white.shape[:2]\n",
    "    \n",
    "    # Define the four corners with optional offsets\n",
    "    corners = [\n",
    "        (x_offset, y_offset),                          # Top-left\n",
    "        #(width - 1 - x_offset, y_offset),             # Top-right\n",
    "        #(x_offset, height - 1 - y_offset),            # Bottom-left\n",
    "        #(width - 1 - x_offset, height - 1 - y_offset) # Bottom-right\n",
    "    ]\n",
    "\n",
    "    # Create a list to hold all box contours\n",
    "    all_contours = []\n",
    "\n",
    "    for (x, y) in corners:\n",
    "        # Define a rectangle (box) around the corner point\n",
    "        box = np.array([\n",
    "            [x, y],                          # Top-left of the box\n",
    "            [x + width_box, y],               # Top-right of the box\n",
    "            [x + width_box, y + height_box],  # Bottom-right of the box\n",
    "            [x, y + height_box]               # Bottom-left of the box\n",
    "        ], dtype=np.int32)\n",
    "        \n",
    "        all_contours.append(box)\n",
    "\n",
    "    # Draw all the box contours on the original image\n",
    "    cv2.drawContours(\n",
    "        img,\n",
    "        all_contours,\n",
    "        contourIdx=-1,          # Draw all contours\n",
    "        color=(0, 255, 0),      # Green color (BGR)\n",
    "        thickness=2             # Line thickness\n",
    "    )\n",
    "    \n",
    "    # Display results\n",
    "    cv2.imshow(\"Image with Corner Boxes\", img)\n",
    "    cv2.waitKey(0)\n",
    "    cv2.imshow(\"Grayscale Version\", black_and_white)\n",
    "    cv2.waitKey(0)\n",
    "    cv2.destroyAllWindows()\n",
    "    \n",
    "    return img\n",
    "\n",
    "# Example usage:\n",
    "# image = cv2.imread(\"your_image.jpg\")\n",
    "# processed_image = findCorners(image, width_box=40, height_box=40)"
   ]
  },
  {
   "cell_type": "code",
   "execution_count": null,
   "id": "9c566e78",
   "metadata": {},
   "outputs": [
    {
     "name": "stdout",
     "output_type": "stream",
     "text": [
      "Processing image:  ../images1/G000_IMG062.jpg\n",
      "Chessboard found in ../images1/G000_IMG062.jpg\n",
      "All squares found\n",
      "Finished processing image:  ../images1/G000_IMG062.jpg\n"
     ]
    }
   ],
   "source": [
    "from task3_2API import detectBoardAndSquares\n",
    "for img in images[:1]:\n",
    "    print(\"Processing image: \", img)\n",
    "    # Call the function to detect board and squares\n",
    "    normalizedBoard, square_box, M, fx, fy = detectBoardAndSquares(img)\n",
    "    if(normalizedBoard is not None):\n",
    "        findHourse(normalizedBoard,15,10,35,65)\n",
    "    print(\"Finished processing image: \", img)"
   ]
  }
 ],
 "metadata": {
  "kernelspec": {
   "display_name": "base",
   "language": "python",
   "name": "python3"
  },
  "language_info": {
   "codemirror_mode": {
    "name": "ipython",
    "version": 3
   },
   "file_extension": ".py",
   "mimetype": "text/x-python",
   "name": "python",
   "nbconvert_exporter": "python",
   "pygments_lexer": "ipython3",
   "version": "3.11.11"
  }
 },
 "nbformat": 4,
 "nbformat_minor": 5
}
